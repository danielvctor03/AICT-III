{
 "cells": [
  {
   "cell_type": "markdown",
   "id": "8520183c-989b-449d-b387-eeaec816bee7",
   "metadata": {},
   "source": [
    "#MLP Regressor"
   ]
  },
  {
   "cell_type": "code",
   "execution_count": 59,
   "id": "db6aad2b-fe21-497d-8e1a-1439481dbe16",
   "metadata": {},
   "outputs": [],
   "source": [
    "#Basic libraries\n",
    "\n",
    "import matplotlib.pyplot as plt\n",
    "import numpy as np\n",
    "from sklearn.preprocessing import StandardScaler\n",
    "from sklearn.preprocessing import MinMaxScaler\n",
    "from sklearn.model_selection import train_test_split\n",
    "from sklearn.metrics import r2_score\n",
    "from sklearn.linear_model import SGDRegressor\n",
    "from sklearn.neural_network import MLPRegressor\n",
    "from sklearn.metrics import accuracy_score\n",
    "from sklearn.metrics import confusion_matrix\n",
    "from sklearn.metrics import ConfusionMatrixDisplay\n",
    "from sklearn.metrics import classification_report\n",
    "from sklearn.metrics import accuracy_score\n",
    "from collections import Counter\n",
    "from sklearn import model_selection, preprocessing, metrics\n",
    "from sklearn import datasets, svm, metrics"
   ]
  },
  {
   "cell_type": "code",
   "execution_count": 43,
   "id": "ef4d2a1b-25c7-4a21-a616-a61b0ceb64e9",
   "metadata": {},
   "outputs": [
    {
     "name": "stdout",
     "output_type": "stream",
     "text": [
      "(2422,)\n",
      "(2422, 2)\n",
      "(2422, 64)\n",
      "(2422, 2)\n"
     ]
    }
   ],
   "source": [
    "#Data loader\n",
    "\n",
    "#Unity 1\n",
    "dados_camera = np.load(\"C:\\\\Users\\\\daniel.carvalho\\\\OneDrive - Mob Serviços de Telecomunicações Ltda\\\\Área de Trabalho\\\\scenario1_seq_index_1-2422.npy\")\n",
    "dados_gps1 = np.load(\"C:\\\\Users\\\\daniel.carvalho\\\\OneDrive - Mob Serviços de Telecomunicações Ltda\\\\Área de Trabalho\\\\scenario1_unit1_loc_1-2422.npy\")\n",
    "dados_mmWave = np.load(\"C:\\\\Users\\\\daniel.carvalho\\\\OneDrive - Mob Serviços de Telecomunicações Ltda\\\\Área de Trabalho\\\\scenario1_unit1_pwr_60ghz_1-2422.npy\")\n",
    "\n",
    "#Unity 2\n",
    "dados_gps2 = np.load(\"C:\\\\Users\\\\daniel.carvalho\\\\OneDrive - Mob Serviços de Telecomunicações Ltda\\\\Área de Trabalho\\\\scenario1_unit2_loc_1-2422.npy\")\n",
    "\n",
    "print(dados_camera.shape)\n",
    "print(dados_gps1.shape)\n",
    "print(dados_mmWave.shape)\n",
    "print(dados_gps2.shape)\n"
   ]
  },
  {
   "cell_type": "code",
   "execution_count": 44,
   "id": "8256aae7-b409-422b-aed9-9d86800f8412",
   "metadata": {},
   "outputs": [
    {
     "name": "stdout",
     "output_type": "stream",
     "text": [
      "[[  33.42054916 -111.9290058    33.42034722 -111.92915278]\n",
      " [  33.42054569 -111.9290057    33.42034722 -111.92915278]\n",
      " [  33.42054224 -111.9290056    33.42034722 -111.92915278]\n",
      " ...\n",
      " [  33.4202489  -111.928985     33.42034722 -111.92915278]\n",
      " [  33.42024312 -111.9289844    33.42034722 -111.92915278]\n",
      " [  33.42023732 -111.9289838    33.42034722 -111.92915278]]\n",
      "(2422, 4)\n",
      "[62 62 62 ...  5  3  3]\n"
     ]
    }
   ],
   "source": [
    "#Data treatment\n",
    "\n",
    "dados_feixes = np.argmax(dados_mmWave , axis=1)\n",
    "dados1 = np.column_stack((dados_gps2,dados_gps1))\n",
    "print (dados1)\n",
    "X=dados1\n",
    "Y=dados_feixes\n",
    "\n",
    "print(X.shape)\n",
    "print(Y)\n"
   ]
  },
  {
   "cell_type": "code",
   "execution_count": 45,
   "id": "568bc5bf-e696-4883-ac10-493c6a72412a",
   "metadata": {},
   "outputs": [],
   "source": [
    "#Data fit\n",
    "\n",
    "sc1 = StandardScaler()\n",
    "sc1.fit(X)\n",
    "\n",
    "X_norm = sc1.transform(X)\n",
    "\n"
   ]
  },
  {
   "cell_type": "code",
   "execution_count": 46,
   "id": "f3d3b34b-2045-4331-9b5e-33700708e7be",
   "metadata": {},
   "outputs": [],
   "source": [
    "#Train and test sets\n",
    "\n",
    "X_train , X_test , Y_train , Y_test = train_test_split(X_norm , Y , test_size=0.2)\n",
    "\n"
   ]
  },
  {
   "cell_type": "code",
   "execution_count": 47,
   "id": "762f9f6d-106f-417e-b4e5-0ca86f93531a",
   "metadata": {},
   "outputs": [],
   "source": [
    "#Neural network training\n",
    "\n",
    "rede = MLPRegressor(hidden_layer_sizes=(40,25,10) , \n",
    "                    max_iter=3000 , \n",
    "                    tol=0.000001, \n",
    "                    learning_rate_init=0.1 , \n",
    "                    solver=\"adam\" , \n",
    "                    activation=\"relu\" , \n",
    "                    learning_rate=\"adaptive\" , \n",
    "                    verbose=True,\n",
    "                    shuffle=True\n",
    "                   )\n"
   ]
  },
  {
   "cell_type": "code",
   "execution_count": 48,
   "id": "1821cc31-b4fd-457b-81ea-74182943e75d",
   "metadata": {},
   "outputs": [
    {
     "name": "stdout",
     "output_type": "stream",
     "text": [
      "Iteration 1, loss = 296.33829212\n",
      "Iteration 2, loss = 56.89576157\n",
      "Iteration 3, loss = 20.43723522\n",
      "Iteration 4, loss = 10.27511758\n",
      "Iteration 5, loss = 5.60132951\n",
      "Iteration 6, loss = 4.15180459\n",
      "Iteration 7, loss = 3.54349312\n",
      "Iteration 8, loss = 3.45518812\n",
      "Iteration 9, loss = 3.51066372\n",
      "Iteration 10, loss = 3.14961600\n",
      "Iteration 11, loss = 2.94920004\n",
      "Iteration 12, loss = 2.84830002\n",
      "Iteration 13, loss = 2.92788218\n",
      "Iteration 14, loss = 2.91522747\n",
      "Iteration 15, loss = 2.99572344\n",
      "Iteration 16, loss = 3.13846766\n",
      "Iteration 17, loss = 2.80084232\n",
      "Iteration 18, loss = 2.72957411\n",
      "Iteration 19, loss = 2.83547563\n",
      "Iteration 20, loss = 2.66965920\n",
      "Iteration 21, loss = 2.80913077\n",
      "Iteration 22, loss = 2.84988260\n",
      "Iteration 23, loss = 2.89677929\n",
      "Iteration 24, loss = 2.92162127\n",
      "Iteration 25, loss = 2.78942691\n",
      "Iteration 26, loss = 3.44957952\n",
      "Iteration 27, loss = 3.49246230\n",
      "Iteration 28, loss = 2.85875031\n",
      "Iteration 29, loss = 2.92516127\n",
      "Iteration 30, loss = 2.91540978\n",
      "Iteration 31, loss = 2.77213157\n",
      "Training loss did not improve more than tol=0.000001 for 10 consecutive epochs. Stopping.\n"
     ]
    },
    {
     "data": {
      "text/html": [
       "<style>#sk-container-id-2 {color: black;background-color: white;}#sk-container-id-2 pre{padding: 0;}#sk-container-id-2 div.sk-toggleable {background-color: white;}#sk-container-id-2 label.sk-toggleable__label {cursor: pointer;display: block;width: 100%;margin-bottom: 0;padding: 0.3em;box-sizing: border-box;text-align: center;}#sk-container-id-2 label.sk-toggleable__label-arrow:before {content: \"▸\";float: left;margin-right: 0.25em;color: #696969;}#sk-container-id-2 label.sk-toggleable__label-arrow:hover:before {color: black;}#sk-container-id-2 div.sk-estimator:hover label.sk-toggleable__label-arrow:before {color: black;}#sk-container-id-2 div.sk-toggleable__content {max-height: 0;max-width: 0;overflow: hidden;text-align: left;background-color: #f0f8ff;}#sk-container-id-2 div.sk-toggleable__content pre {margin: 0.2em;color: black;border-radius: 0.25em;background-color: #f0f8ff;}#sk-container-id-2 input.sk-toggleable__control:checked~div.sk-toggleable__content {max-height: 200px;max-width: 100%;overflow: auto;}#sk-container-id-2 input.sk-toggleable__control:checked~label.sk-toggleable__label-arrow:before {content: \"▾\";}#sk-container-id-2 div.sk-estimator input.sk-toggleable__control:checked~label.sk-toggleable__label {background-color: #d4ebff;}#sk-container-id-2 div.sk-label input.sk-toggleable__control:checked~label.sk-toggleable__label {background-color: #d4ebff;}#sk-container-id-2 input.sk-hidden--visually {border: 0;clip: rect(1px 1px 1px 1px);clip: rect(1px, 1px, 1px, 1px);height: 1px;margin: -1px;overflow: hidden;padding: 0;position: absolute;width: 1px;}#sk-container-id-2 div.sk-estimator {font-family: monospace;background-color: #f0f8ff;border: 1px dotted black;border-radius: 0.25em;box-sizing: border-box;margin-bottom: 0.5em;}#sk-container-id-2 div.sk-estimator:hover {background-color: #d4ebff;}#sk-container-id-2 div.sk-parallel-item::after {content: \"\";width: 100%;border-bottom: 1px solid gray;flex-grow: 1;}#sk-container-id-2 div.sk-label:hover label.sk-toggleable__label {background-color: #d4ebff;}#sk-container-id-2 div.sk-serial::before {content: \"\";position: absolute;border-left: 1px solid gray;box-sizing: border-box;top: 0;bottom: 0;left: 50%;z-index: 0;}#sk-container-id-2 div.sk-serial {display: flex;flex-direction: column;align-items: center;background-color: white;padding-right: 0.2em;padding-left: 0.2em;position: relative;}#sk-container-id-2 div.sk-item {position: relative;z-index: 1;}#sk-container-id-2 div.sk-parallel {display: flex;align-items: stretch;justify-content: center;background-color: white;position: relative;}#sk-container-id-2 div.sk-item::before, #sk-container-id-2 div.sk-parallel-item::before {content: \"\";position: absolute;border-left: 1px solid gray;box-sizing: border-box;top: 0;bottom: 0;left: 50%;z-index: -1;}#sk-container-id-2 div.sk-parallel-item {display: flex;flex-direction: column;z-index: 1;position: relative;background-color: white;}#sk-container-id-2 div.sk-parallel-item:first-child::after {align-self: flex-end;width: 50%;}#sk-container-id-2 div.sk-parallel-item:last-child::after {align-self: flex-start;width: 50%;}#sk-container-id-2 div.sk-parallel-item:only-child::after {width: 0;}#sk-container-id-2 div.sk-dashed-wrapped {border: 1px dashed gray;margin: 0 0.4em 0.5em 0.4em;box-sizing: border-box;padding-bottom: 0.4em;background-color: white;}#sk-container-id-2 div.sk-label label {font-family: monospace;font-weight: bold;display: inline-block;line-height: 1.2em;}#sk-container-id-2 div.sk-label-container {text-align: center;}#sk-container-id-2 div.sk-container {/* jupyter's `normalize.less` sets `[hidden] { display: none; }` but bootstrap.min.css set `[hidden] { display: none !important; }` so we also need the `!important` here to be able to override the default hidden behavior on the sphinx rendered scikit-learn.org. See: https://github.com/scikit-learn/scikit-learn/issues/21755 */display: inline-block !important;position: relative;}#sk-container-id-2 div.sk-text-repr-fallback {display: none;}</style><div id=\"sk-container-id-2\" class=\"sk-top-container\"><div class=\"sk-text-repr-fallback\"><pre>MLPRegressor(hidden_layer_sizes=(40, 25, 10), learning_rate=&#x27;adaptive&#x27;,\n",
       "             learning_rate_init=0.1, max_iter=3000, tol=1e-06, verbose=True)</pre><b>In a Jupyter environment, please rerun this cell to show the HTML representation or trust the notebook. <br />On GitHub, the HTML representation is unable to render, please try loading this page with nbviewer.org.</b></div><div class=\"sk-container\" hidden><div class=\"sk-item\"><div class=\"sk-estimator sk-toggleable\"><input class=\"sk-toggleable__control sk-hidden--visually\" id=\"sk-estimator-id-2\" type=\"checkbox\" checked><label for=\"sk-estimator-id-2\" class=\"sk-toggleable__label sk-toggleable__label-arrow\">MLPRegressor</label><div class=\"sk-toggleable__content\"><pre>MLPRegressor(hidden_layer_sizes=(40, 25, 10), learning_rate=&#x27;adaptive&#x27;,\n",
       "             learning_rate_init=0.1, max_iter=3000, tol=1e-06, verbose=True)</pre></div></div></div></div></div>"
      ],
      "text/plain": [
       "MLPRegressor(hidden_layer_sizes=(40, 25, 10), learning_rate='adaptive',\n",
       "             learning_rate_init=0.1, max_iter=3000, tol=1e-06, verbose=True)"
      ]
     },
     "execution_count": 48,
     "metadata": {},
     "output_type": "execute_result"
    }
   ],
   "source": [
    "# \n",
    "rede.fit(X_train , Y_train)"
   ]
  },
  {
   "cell_type": "code",
   "execution_count": 65,
   "id": "dab453ef-f7e0-449a-85d9-f747b60a1ed7",
   "metadata": {},
   "outputs": [
    {
     "name": "stdout",
     "output_type": "stream",
     "text": [
      "[[  33.42054916 -111.9290058    33.42034722 -111.92915278]\n",
      " [  33.42054569 -111.9290057    33.42034722 -111.92915278]\n",
      " [  33.42054224 -111.9290056    33.42034722 -111.92915278]\n",
      " ...\n",
      " [  33.4202489  -111.928985     33.42034722 -111.92915278]\n",
      " [  33.42024312 -111.9289844    33.42034722 -111.92915278]\n",
      " [  33.42023732 -111.9289838    33.42034722 -111.92915278]]\n",
      "[62 62 62 ...  5  3  3]\n",
      "[(42, 126), (13, 105), (43, 93)]\n"
     ]
    }
   ],
   "source": [
    "print(X)\n",
    "print(Y)\n",
    "\n",
    "counter = Counter(Y)\n",
    "\n",
    "most_common = counter.most_common(1)[0][0]\n",
    "\n",
    "most_common_2 = counter.most_common(3)\n",
    "\n",
    "print(most_common_2)\n"
   ]
  },
  {
   "cell_type": "code",
   "execution_count": 50,
   "id": "b82f3dad-e946-4e3e-b181-6bdf228569b3",
   "metadata": {},
   "outputs": [],
   "source": [
    "#Test set predict\n",
    "\n",
    "Y_rede_pred = rede.predict(X_test)\n"
   ]
  },
  {
   "cell_type": "code",
   "execution_count": 63,
   "id": "400cb6e0-2ec8-46f3-b6a7-4778bc40065c",
   "metadata": {},
   "outputs": [
    {
     "name": "stdout",
     "output_type": "stream",
     "text": [
      "0.9773170122654472\n"
     ]
    }
   ],
   "source": [
    "#Score\n",
    "\n",
    "Score_rede = r2_score(Y_test,Y_rede_pred)\n",
    "print(Score_rede)"
   ]
  },
  {
   "cell_type": "code",
   "execution_count": null,
   "id": "749aeefa-162d-4211-97db-f625e489ac33",
   "metadata": {},
   "outputs": [],
   "source": []
  }
 ],
 "metadata": {
  "kernelspec": {
   "display_name": "Python 3 (ipykernel)",
   "language": "python",
   "name": "python3"
  },
  "language_info": {
   "codemirror_mode": {
    "name": "ipython",
    "version": 3
   },
   "file_extension": ".py",
   "mimetype": "text/x-python",
   "name": "python",
   "nbconvert_exporter": "python",
   "pygments_lexer": "ipython3",
   "version": "3.11.2"
  }
 },
 "nbformat": 4,
 "nbformat_minor": 5
}
