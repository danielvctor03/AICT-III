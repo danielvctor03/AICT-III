{
 "cells": [
  {
   "cell_type": "markdown",
   "id": "8520183c-989b-449d-b387-eeaec816bee7",
   "metadata": {},
   "source": [
    "#MLP Regressor"
   ]
  },
  {
   "cell_type": "code",
   "execution_count": 1,
   "id": "db6aad2b-fe21-497d-8e1a-1439481dbe16",
   "metadata": {},
   "outputs": [],
   "source": [
    "#Basic libraries\n",
    "\n",
    "import matplotlib.pyplot as plt\n",
    "import numpy as np\n",
    "from sklearn.preprocessing import StandardScaler\n",
    "from sklearn.model_selection import train_test_split\n",
    "from sklearn.metrics import r2_score\n",
    "from sklearn.linear_model import SGDRegressor\n",
    "from sklearn.neural_network import MLPRegressor\n",
    "from sklearn.metrics import accuracy_score\n",
    "from sklearn.metrics import confusion_matrix\n",
    "from sklearn.metrics import ConfusionMatrixDisplay\n",
    "from sklearn.metrics import classification_report\n",
    "from sklearn.metrics import accuracy_score"
   ]
  },
  {
   "cell_type": "code",
   "execution_count": 3,
   "id": "ef4d2a1b-25c7-4a21-a616-a61b0ceb64e9",
   "metadata": {},
   "outputs": [
    {
     "name": "stdout",
     "output_type": "stream",
     "text": [
      "(2422,)\n",
      "(2422, 2)\n",
      "(2422, 64)\n",
      "(2422, 2)\n"
     ]
    }
   ],
   "source": [
    "#Data loader\n",
    "\n",
    "#Unity 1\n",
    "dados_camera = np.load(\"C:\\\\Users\\\\daniel.carvalho\\\\OneDrive - Mob Serviços de Telecomunicações Ltda\\\\Área de Trabalho\\\\scenario1_seq_index_1-2422.npy\")\n",
    "dados_gps1 = np.load(\"C:\\\\Users\\\\daniel.carvalho\\\\OneDrive - Mob Serviços de Telecomunicações Ltda\\\\Área de Trabalho\\\\scenario1_unit1_loc_1-2422.npy\")\n",
    "dados_mmWave = np.load(\"C:\\\\Users\\\\daniel.carvalho\\\\OneDrive - Mob Serviços de Telecomunicações Ltda\\\\Área de Trabalho\\\\scenario1_unit1_pwr_60ghz_1-2422.npy\")\n",
    "\n",
    "#Unity 2\n",
    "dados_gps2 = np.load(\"C:\\\\Users\\\\daniel.carvalho\\\\OneDrive - Mob Serviços de Telecomunicações Ltda\\\\Área de Trabalho\\\\scenario1_unit2_loc_1-2422.npy\")\n",
    "\n",
    "print(dados_camera.shape)\n",
    "print(dados_gps1.shape)\n",
    "print(dados_mmWave.shape)\n",
    "print(dados_gps2.shape)\n"
   ]
  },
  {
   "cell_type": "code",
   "execution_count": 19,
   "id": "8256aae7-b409-422b-aed9-9d86800f8412",
   "metadata": {},
   "outputs": [
    {
     "name": "stdout",
     "output_type": "stream",
     "text": [
      "[[  33.42054916 -111.9290058    33.42034722 -111.92915278]\n",
      " [  33.42054569 -111.9290057    33.42034722 -111.92915278]\n",
      " [  33.42054224 -111.9290056    33.42034722 -111.92915278]\n",
      " ...\n",
      " [  33.4202489  -111.928985     33.42034722 -111.92915278]\n",
      " [  33.42024312 -111.9289844    33.42034722 -111.92915278]\n",
      " [  33.42023732 -111.9289838    33.42034722 -111.92915278]]\n",
      "[62 62 62 ...  5  3  3]\n"
     ]
    }
   ],
   "source": [
    "#Data treatment\n",
    "\n",
    "dados_feixes = np.argmax(dados_mmWave , axis=1)\n",
    "dados1 = np.column_stack((dados_gps2,dados_gps1))\n",
    "print (dados1)\n",
    "X=dados1\n",
    "Y=dados_feixes\n",
    "\n",
    "print(Y)\n"
   ]
  },
  {
   "cell_type": "code",
   "execution_count": 27,
   "id": "568bc5bf-e696-4883-ac10-493c6a72412a",
   "metadata": {},
   "outputs": [],
   "source": [
    "#Data fit\n",
    "\n",
    "sc1 = StandardScaler()\n",
    "sc1.fit(X)\n",
    "\n",
    "X_norm = sc1.transform(X)\n",
    "\n",
    "Y = Y.reshape(-1,1)\n",
    "\n",
    "sc2 = StandardScaler()\n",
    "sc2.fit(Y)\n",
    "\n",
    "Y_norm = sc2.transform(Y)\n",
    "\n"
   ]
  },
  {
   "cell_type": "code",
   "execution_count": 28,
   "id": "f3d3b34b-2045-4331-9b5e-33700708e7be",
   "metadata": {},
   "outputs": [],
   "source": [
    "#Train and test sets\n",
    "\n",
    "X_train , X_test , Y_train , Y_test = train_test_split(X_norm , Y_norm , test_size=0.7)\n",
    "\n"
   ]
  },
  {
   "cell_type": "code",
   "execution_count": 29,
   "id": "762f9f6d-106f-417e-b4e5-0ca86f93531a",
   "metadata": {},
   "outputs": [],
   "source": [
    "#Neural network training\n",
    "\n",
    "rede = MLPRegressor(hidden_layer_sizes=(40,25,10) , \n",
    "                    max_iter=3000 , \n",
    "                    tol=0.000001, \n",
    "                    learning_rate_init=0.1 , \n",
    "                    solver=\"adam\" , \n",
    "                    activation=\"tanh\" , \n",
    "                    learning_rate=\"adaptive\" , \n",
    "                    verbose=True,\n",
    "                    shuffle=True\n",
    "                   )\n"
   ]
  },
  {
   "cell_type": "code",
   "execution_count": 30,
   "id": "1821cc31-b4fd-457b-81ea-74182943e75d",
   "metadata": {},
   "outputs": [
    {
     "name": "stderr",
     "output_type": "stream",
     "text": [
      "c:\\Users\\daniel.carvalho\\AppData\\Local\\Programs\\Python\\Python311\\Lib\\site-packages\\sklearn\\neural_network\\_multilayer_perceptron.py:1623: DataConversionWarning: A column-vector y was passed when a 1d array was expected. Please change the shape of y to (n_samples, ), for example using ravel().\n",
      "  y = column_or_1d(y, warn=True)\n"
     ]
    },
    {
     "name": "stdout",
     "output_type": "stream",
     "text": [
      "Iteration 1, loss = 0.87504295\n",
      "Iteration 2, loss = 0.19962221\n",
      "Iteration 3, loss = 0.10662552\n",
      "Iteration 4, loss = 0.07619199\n",
      "Iteration 5, loss = 0.05176219\n",
      "Iteration 6, loss = 0.04615593\n",
      "Iteration 7, loss = 0.04037699\n",
      "Iteration 8, loss = 0.03171511\n",
      "Iteration 9, loss = 0.03097471\n",
      "Iteration 10, loss = 0.02143559\n",
      "Iteration 11, loss = 0.01507145\n",
      "Iteration 12, loss = 0.01227344\n",
      "Iteration 13, loss = 0.01171144\n",
      "Iteration 14, loss = 0.01177874\n",
      "Iteration 15, loss = 0.01194223\n",
      "Iteration 16, loss = 0.01114999\n",
      "Iteration 17, loss = 0.00917421\n",
      "Iteration 18, loss = 0.00906752\n",
      "Iteration 19, loss = 0.00848782\n",
      "Iteration 20, loss = 0.00802137\n",
      "Iteration 21, loss = 0.00797981\n",
      "Iteration 22, loss = 0.00842176\n",
      "Iteration 23, loss = 0.00794821\n",
      "Iteration 24, loss = 0.00786027\n",
      "Iteration 25, loss = 0.00804618\n",
      "Iteration 26, loss = 0.00748976\n",
      "Iteration 27, loss = 0.00941883\n",
      "Iteration 28, loss = 0.00784620\n",
      "Iteration 29, loss = 0.00736089\n",
      "Iteration 30, loss = 0.00727618\n",
      "Iteration 31, loss = 0.00826725\n",
      "Iteration 32, loss = 0.00787104\n",
      "Iteration 33, loss = 0.00748390\n",
      "Iteration 34, loss = 0.00728258\n",
      "Iteration 35, loss = 0.00735208\n",
      "Iteration 36, loss = 0.00753427\n",
      "Iteration 37, loss = 0.00748169\n",
      "Iteration 38, loss = 0.00784130\n",
      "Iteration 39, loss = 0.00756083\n",
      "Iteration 40, loss = 0.01206429\n",
      "Iteration 41, loss = 0.01237069\n",
      "Training loss did not improve more than tol=0.000001 for 10 consecutive epochs. Stopping.\n"
     ]
    },
    {
     "data": {
      "text/html": [
       "<style>#sk-container-id-1 {color: black;background-color: white;}#sk-container-id-1 pre{padding: 0;}#sk-container-id-1 div.sk-toggleable {background-color: white;}#sk-container-id-1 label.sk-toggleable__label {cursor: pointer;display: block;width: 100%;margin-bottom: 0;padding: 0.3em;box-sizing: border-box;text-align: center;}#sk-container-id-1 label.sk-toggleable__label-arrow:before {content: \"▸\";float: left;margin-right: 0.25em;color: #696969;}#sk-container-id-1 label.sk-toggleable__label-arrow:hover:before {color: black;}#sk-container-id-1 div.sk-estimator:hover label.sk-toggleable__label-arrow:before {color: black;}#sk-container-id-1 div.sk-toggleable__content {max-height: 0;max-width: 0;overflow: hidden;text-align: left;background-color: #f0f8ff;}#sk-container-id-1 div.sk-toggleable__content pre {margin: 0.2em;color: black;border-radius: 0.25em;background-color: #f0f8ff;}#sk-container-id-1 input.sk-toggleable__control:checked~div.sk-toggleable__content {max-height: 200px;max-width: 100%;overflow: auto;}#sk-container-id-1 input.sk-toggleable__control:checked~label.sk-toggleable__label-arrow:before {content: \"▾\";}#sk-container-id-1 div.sk-estimator input.sk-toggleable__control:checked~label.sk-toggleable__label {background-color: #d4ebff;}#sk-container-id-1 div.sk-label input.sk-toggleable__control:checked~label.sk-toggleable__label {background-color: #d4ebff;}#sk-container-id-1 input.sk-hidden--visually {border: 0;clip: rect(1px 1px 1px 1px);clip: rect(1px, 1px, 1px, 1px);height: 1px;margin: -1px;overflow: hidden;padding: 0;position: absolute;width: 1px;}#sk-container-id-1 div.sk-estimator {font-family: monospace;background-color: #f0f8ff;border: 1px dotted black;border-radius: 0.25em;box-sizing: border-box;margin-bottom: 0.5em;}#sk-container-id-1 div.sk-estimator:hover {background-color: #d4ebff;}#sk-container-id-1 div.sk-parallel-item::after {content: \"\";width: 100%;border-bottom: 1px solid gray;flex-grow: 1;}#sk-container-id-1 div.sk-label:hover label.sk-toggleable__label {background-color: #d4ebff;}#sk-container-id-1 div.sk-serial::before {content: \"\";position: absolute;border-left: 1px solid gray;box-sizing: border-box;top: 0;bottom: 0;left: 50%;z-index: 0;}#sk-container-id-1 div.sk-serial {display: flex;flex-direction: column;align-items: center;background-color: white;padding-right: 0.2em;padding-left: 0.2em;position: relative;}#sk-container-id-1 div.sk-item {position: relative;z-index: 1;}#sk-container-id-1 div.sk-parallel {display: flex;align-items: stretch;justify-content: center;background-color: white;position: relative;}#sk-container-id-1 div.sk-item::before, #sk-container-id-1 div.sk-parallel-item::before {content: \"\";position: absolute;border-left: 1px solid gray;box-sizing: border-box;top: 0;bottom: 0;left: 50%;z-index: -1;}#sk-container-id-1 div.sk-parallel-item {display: flex;flex-direction: column;z-index: 1;position: relative;background-color: white;}#sk-container-id-1 div.sk-parallel-item:first-child::after {align-self: flex-end;width: 50%;}#sk-container-id-1 div.sk-parallel-item:last-child::after {align-self: flex-start;width: 50%;}#sk-container-id-1 div.sk-parallel-item:only-child::after {width: 0;}#sk-container-id-1 div.sk-dashed-wrapped {border: 1px dashed gray;margin: 0 0.4em 0.5em 0.4em;box-sizing: border-box;padding-bottom: 0.4em;background-color: white;}#sk-container-id-1 div.sk-label label {font-family: monospace;font-weight: bold;display: inline-block;line-height: 1.2em;}#sk-container-id-1 div.sk-label-container {text-align: center;}#sk-container-id-1 div.sk-container {/* jupyter's `normalize.less` sets `[hidden] { display: none; }` but bootstrap.min.css set `[hidden] { display: none !important; }` so we also need the `!important` here to be able to override the default hidden behavior on the sphinx rendered scikit-learn.org. See: https://github.com/scikit-learn/scikit-learn/issues/21755 */display: inline-block !important;position: relative;}#sk-container-id-1 div.sk-text-repr-fallback {display: none;}</style><div id=\"sk-container-id-1\" class=\"sk-top-container\"><div class=\"sk-text-repr-fallback\"><pre>MLPRegressor(activation=&#x27;tanh&#x27;, hidden_layer_sizes=(40, 25, 10),\n",
       "             learning_rate=&#x27;adaptive&#x27;, learning_rate_init=0.1, max_iter=3000,\n",
       "             tol=1e-06, verbose=True)</pre><b>In a Jupyter environment, please rerun this cell to show the HTML representation or trust the notebook. <br />On GitHub, the HTML representation is unable to render, please try loading this page with nbviewer.org.</b></div><div class=\"sk-container\" hidden><div class=\"sk-item\"><div class=\"sk-estimator sk-toggleable\"><input class=\"sk-toggleable__control sk-hidden--visually\" id=\"sk-estimator-id-1\" type=\"checkbox\" checked><label for=\"sk-estimator-id-1\" class=\"sk-toggleable__label sk-toggleable__label-arrow\">MLPRegressor</label><div class=\"sk-toggleable__content\"><pre>MLPRegressor(activation=&#x27;tanh&#x27;, hidden_layer_sizes=(40, 25, 10),\n",
       "             learning_rate=&#x27;adaptive&#x27;, learning_rate_init=0.1, max_iter=3000,\n",
       "             tol=1e-06, verbose=True)</pre></div></div></div></div></div>"
      ],
      "text/plain": [
       "MLPRegressor(activation='tanh', hidden_layer_sizes=(40, 25, 10),\n",
       "             learning_rate='adaptive', learning_rate_init=0.1, max_iter=3000,\n",
       "             tol=1e-06, verbose=True)"
      ]
     },
     "execution_count": 30,
     "metadata": {},
     "output_type": "execute_result"
    }
   ],
   "source": [
    "# \n",
    "rede.fit(X_train , Y_train)"
   ]
  },
  {
   "cell_type": "code",
   "execution_count": 31,
   "id": "dab453ef-f7e0-449a-85d9-f747b60a1ed7",
   "metadata": {},
   "outputs": [
    {
     "name": "stdout",
     "output_type": "stream",
     "text": [
      "(2422, 4)\n",
      "(2422, 1)\n"
     ]
    }
   ],
   "source": [
    "print(X_norm.shape)\n",
    "print(Y_norm.shape)"
   ]
  },
  {
   "cell_type": "code",
   "execution_count": 32,
   "id": "b82f3dad-e946-4e3e-b181-6bdf228569b3",
   "metadata": {},
   "outputs": [],
   "source": [
    "#Test set predict\n",
    "\n",
    "Y_rede_pred = rede.predict(X_test)\n"
   ]
  },
  {
   "cell_type": "code",
   "execution_count": 34,
   "id": "400cb6e0-2ec8-46f3-b6a7-4778bc40065c",
   "metadata": {},
   "outputs": [
    {
     "name": "stdout",
     "output_type": "stream",
     "text": [
      "0.9717350446820759\n"
     ]
    }
   ],
   "source": [
    "#Score\n",
    "\n",
    "r2_rede = r2_score(Y_test,Y_rede_pred)\n",
    "print(r2_rede)"
   ]
  },
  {
   "cell_type": "code",
   "execution_count": null,
   "id": "749aeefa-162d-4211-97db-f625e489ac33",
   "metadata": {},
   "outputs": [],
   "source": []
  }
 ],
 "metadata": {
  "kernelspec": {
   "display_name": "Python 3 (ipykernel)",
   "language": "python",
   "name": "python3"
  },
  "language_info": {
   "codemirror_mode": {
    "name": "ipython",
    "version": 3
   },
   "file_extension": ".py",
   "mimetype": "text/x-python",
   "name": "python",
   "nbconvert_exporter": "python",
   "pygments_lexer": "ipython3",
   "version": "3.11.2"
  }
 },
 "nbformat": 4,
 "nbformat_minor": 5
}
